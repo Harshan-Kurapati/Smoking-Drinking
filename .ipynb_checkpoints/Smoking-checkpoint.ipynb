{
 "cells": [
  {
   "cell_type": "code",
   "execution_count": 1,
   "id": "23e00e6e",
   "metadata": {},
   "outputs": [],
   "source": [
    "import pandas as pd\n",
    "import numpy as np\n",
    "from sklearn.preprocessing import StandardScaler\n",
    "from sklearn.pipeline import Pipeline\n",
    "from sklearn.cluster import KMeans\n",
    "import matplotlib.pyplot as plt\n",
    "import seaborn as sns\n",
    "from sklearn.metrics import silhouette_score\n",
    "from pyspark.sql import SparkSession"
   ]
  },
  {
   "cell_type": "code",
   "execution_count": 3,
   "id": "e32cfc3f",
   "metadata": {},
   "outputs": [],
   "source": [
    "spark.sparkContext.setLogLevel(\"ERROR\")\n"
   ]
  },
  {
   "cell_type": "code",
   "execution_count": 4,
   "id": "5e0accdd",
   "metadata": {
    "scrolled": false
   },
   "outputs": [],
   "source": [
    "spark = SparkSession.builder.appName(\"KMeansexample\").getOrCreate()"
   ]
  },
  {
   "cell_type": "code",
   "execution_count": 5,
   "id": "93f65350",
   "metadata": {},
   "outputs": [
    {
     "name": "stdout",
     "output_type": "stream",
     "text": [
      "3.5.3\n"
     ]
    }
   ],
   "source": [
    "print(spark.version)\n"
   ]
  },
  {
   "cell_type": "code",
   "execution_count": null,
   "id": "749d2638",
   "metadata": {
    "scrolled": true
   },
   "outputs": [],
   "source": [
    "data = [(1, \"foo\"), (2, \"bar\"), (3, \"baz\")]\n",
    "df = spark.createDataFrame(data, [\"id\", \"value\"])\n",
    "df.show()"
   ]
  },
  {
   "cell_type": "markdown",
   "id": "5f3ac3be",
   "metadata": {},
   "source": [
    "# checking computational capacity"
   ]
  },
  {
   "cell_type": "code",
   "execution_count": 9,
   "id": "6db8a605",
   "metadata": {},
   "outputs": [
    {
     "name": "stdout",
     "output_type": "stream",
     "text": [
      "Without Spark:\n",
      "Sum: 550013308.2265407\n",
      "Time taken: 116.92 seconds\n"
     ]
    }
   ],
   "source": [
    "import pandas as pd\n",
    "import numpy as np\n",
    "import time\n",
    "\n",
    "# Generate a large datase\n",
    "data = np.random.rand(1_100_000_000, 1)\n",
    "df = pd.DataFrame(data, columns=[\"value\"])\n",
    "\n",
    "# Measure time\n",
    "start_time = time.time()\n",
    "sum_result = df[\"value\"].sum()\n",
    "end_time = time.time()\n",
    "\n",
    "print(\"Without Spark:\")\n",
    "print(f\"Sum: {sum_result}\")\n",
    "print(f\"Time taken: {end_time - start_time:.2f} seconds\")\n"
   ]
  },
  {
   "cell_type": "code",
   "execution_count": 10,
   "id": "53ef9015",
   "metadata": {},
   "outputs": [
    {
     "name": "stderr",
     "output_type": "stream",
     "text": [
      "[Stage 3:>                                                          (0 + 8) / 8]\r"
     ]
    },
    {
     "name": "stdout",
     "output_type": "stream",
     "text": [
      "With Spark:\n",
      "Sum: 5497746.262147221\n",
      "Time taken: 4.25 seconds\n"
     ]
    },
    {
     "name": "stderr",
     "output_type": "stream",
     "text": [
      "\r",
      "                                                                                \r"
     ]
    }
   ],
   "source": [
    "from pyspark.sql import SparkSession\n",
    "from pyspark.sql.functions import sum as spark_sum\n",
    "import time\n",
    "\n",
    "# Generate a large dataset\n",
    "data = [(float(i),) for i in np.random.rand(1_1_000_000)]\n",
    "spark_df = spark.createDataFrame(data, [\"value\"])\n",
    "\n",
    "# Measure time\n",
    "start_time = time.time()\n",
    "sum_result = spark_df.select(spark_sum(\"value\")).collect()[0][0]\n",
    "end_time = time.time()\n",
    "\n",
    "print(\"With Spark:\")\n",
    "print(f\"Sum: {sum_result}\")\n",
    "print(f\"Time taken: {end_time - start_time:.2f} seconds\")\n"
   ]
  },
  {
   "cell_type": "code",
   "execution_count": null,
   "id": "c5df7ade",
   "metadata": {},
   "outputs": [],
   "source": []
  },
  {
   "cell_type": "code",
   "execution_count": null,
   "id": "6efc1516",
   "metadata": {},
   "outputs": [],
   "source": []
  },
  {
   "cell_type": "code",
   "execution_count": null,
   "id": "352b7db3",
   "metadata": {},
   "outputs": [],
   "source": []
  },
  {
   "cell_type": "code",
   "execution_count": null,
   "id": "5f8256c7",
   "metadata": {},
   "outputs": [],
   "source": [
    "df = pd.read_csv(\"smoking_driking_dataset_Ver01.csv.gz\")"
   ]
  },
  {
   "cell_type": "code",
   "execution_count": null,
   "id": "bb85a04d",
   "metadata": {},
   "outputs": [],
   "source": [
    "df"
   ]
  },
  {
   "cell_type": "markdown",
   "id": "8692532c",
   "metadata": {},
   "source": [
    "# Data Preparation\n",
    "## Check for Missing Values"
   ]
  },
  {
   "cell_type": "code",
   "execution_count": null,
   "id": "573ca654",
   "metadata": {},
   "outputs": [],
   "source": [
    "df.isnull().sum()"
   ]
  },
  {
   "cell_type": "markdown",
   "id": "08755ab3",
   "metadata": {},
   "source": [
    "## Convert Object Data types into Numerical Data types"
   ]
  },
  {
   "cell_type": "code",
   "execution_count": null,
   "id": "f7a1977c",
   "metadata": {},
   "outputs": [],
   "source": [
    "if \"sex\" in df.columns:\n",
    "    one_hot = pd.get_dummies(df[\"sex\"], prefix = 'Is_')\n",
    "    df_ = pd.concat([df, one_hot], axis = 1)\n",
    "    df = df_.drop([\"sex\"], axis = 1)"
   ]
  },
  {
   "cell_type": "code",
   "execution_count": null,
   "id": "1c3896ca",
   "metadata": {},
   "outputs": [],
   "source": [
    "df"
   ]
  },
  {
   "cell_type": "code",
   "execution_count": null,
   "id": "0682bd19",
   "metadata": {},
   "outputs": [],
   "source": [
    "if \"DRK_YN\" in df.columns:    \n",
    "    df = df.drop([\"DRK_YN\"], axis = 1)\n",
    "\n",
    "    "
   ]
  },
  {
   "cell_type": "markdown",
   "id": "f8596760",
   "metadata": {},
   "source": [
    "## Standardising"
   ]
  },
  {
   "cell_type": "code",
   "execution_count": null,
   "id": "5bb7f834",
   "metadata": {},
   "outputs": [],
   "source": [
    "pipeline = Pipeline([\n",
    "    ('standardiser', StandardScaler())\n",
    "])"
   ]
  },
  {
   "cell_type": "code",
   "execution_count": null,
   "id": "57fa2780",
   "metadata": {},
   "outputs": [],
   "source": [
    "Standard_df = pipeline.fit_transform(df)"
   ]
  },
  {
   "cell_type": "code",
   "execution_count": null,
   "id": "36a84fc6",
   "metadata": {},
   "outputs": [],
   "source": [
    "Standard_df"
   ]
  },
  {
   "cell_type": "markdown",
   "id": "86d0bf82",
   "metadata": {},
   "source": [
    "# Model"
   ]
  },
  {
   "cell_type": "markdown",
   "id": "843b0254",
   "metadata": {},
   "source": [
    "## Rough Model"
   ]
  },
  {
   "cell_type": "code",
   "execution_count": null,
   "id": "268369fc",
   "metadata": {},
   "outputs": [],
   "source": [
    "kmeans = KMeans(n_clusters =5,  n_init = 10, random_state = 42)\n",
    "kmeans_pred = kmeans.fit_predict(Standard_df)\n",
    "wcss = kmeans.inertia_"
   ]
  },
  {
   "cell_type": "code",
   "execution_count": null,
   "id": "4a88a8e9",
   "metadata": {},
   "outputs": [],
   "source": [
    "centroids = kmeans.cluster_centers_"
   ]
  },
  {
   "cell_type": "code",
   "execution_count": null,
   "id": "5f136362",
   "metadata": {},
   "outputs": [],
   "source": [
    "plt.figure(figsize = (8,10))\n",
    "\n",
    "plt.scatter(Standard_df[:,-1], Standard_df[:, -2], c = kmeans_pred, cmap = \"viridis\", alpha = 0.6)\n",
    "plt.scatter(centroids[:,0], centroids[:, 1], c = \"red\", marker = 'X')"
   ]
  },
  {
   "cell_type": "markdown",
   "id": "e71ec649",
   "metadata": {},
   "source": [
    "### The graph seems cluttered so Decided to try plot with the sample."
   ]
  },
  {
   "cell_type": "code",
   "execution_count": null,
   "id": "9d339269",
   "metadata": {},
   "outputs": [],
   "source": [
    "np.random.seed(42)\n",
    "sample_indices = np.random.choice(Standard_df.shape[0], replace = False, size = 1000)\n",
    "sample_df = Standard_df[sample_indices]\n",
    "sample_preds = kmeans_pred[sample_indices]"
   ]
  },
  {
   "cell_type": "code",
   "execution_count": null,
   "id": "fba7ff85",
   "metadata": {},
   "outputs": [],
   "source": [
    "plt.figure(figsize = (8,10))\n",
    "\n",
    "plt.scatter(sample_df[:,2], sample_df[:, 8], c = sample_preds, cmap = \"viridis\", alpha = 0.6)\n",
    "plt.scatter(centroids[:,0], centroids[:, 1], c = \"red\", marker = 'X')\n"
   ]
  },
  {
   "cell_type": "code",
   "execution_count": null,
   "id": "e52f40ab",
   "metadata": {},
   "outputs": [],
   "source": [
    "silhouette_score(Standard_df, kmeans_pred)"
   ]
  },
  {
   "cell_type": "code",
   "execution_count": null,
   "id": "275c0231",
   "metadata": {},
   "outputs": [],
   "source": []
  }
 ],
 "metadata": {
  "kernelspec": {
   "display_name": "Python 3 (ipykernel)",
   "language": "python",
   "name": "python3"
  },
  "language_info": {
   "codemirror_mode": {
    "name": "ipython",
    "version": 3
   },
   "file_extension": ".py",
   "mimetype": "text/x-python",
   "name": "python",
   "nbconvert_exporter": "python",
   "pygments_lexer": "ipython3",
   "version": "3.11.4"
  }
 },
 "nbformat": 4,
 "nbformat_minor": 5
}
